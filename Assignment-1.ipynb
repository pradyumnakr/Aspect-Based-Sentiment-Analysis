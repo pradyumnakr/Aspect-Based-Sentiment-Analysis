{
 "cells": [
  {
   "cell_type": "code",
   "execution_count": 52,
   "id": "0a37840a",
   "metadata": {
    "scrolled": true
   },
   "outputs": [],
   "source": [
    "import warnings\n",
    "import pandas as pd\n",
    "import numpy as np\n",
    "from textblob import TextBlob\n",
    "import contractions\n",
    "import re\n",
    "import nltk\n",
    "from nltk.corpus import stopwords\n",
    "from nltk.tokenize import word_tokenize\n",
    "from nltk.stem import PorterStemmer\n",
    "from sklearn.feature_extraction.text import CountVectorizer, TfidfVectorizer\n",
    "from sklearn.feature_selection import SelectKBest, chi2\n",
    "from sklearn.preprocessing import LabelEncoder\n",
    "from sklearn.ensemble import RandomForestClassifier\n",
    "from sklearn.svm import SVC\n",
    "from sklearn.tree import DecisionTreeClassifier\n",
    "from sklearn.metrics import accuracy_score\n",
    "from sklearn.model_selection import cross_val_score\n",
    "from sklearn.model_selection import train_test_split\n",
    "from sklearn.linear_model import LogisticRegression\n",
    "from sklearn.metrics import classification_report\n",
    "from nltk.stem import WordNetLemmatizer\n",
    "from nltk import pos_tag\n",
    "from nltk.corpus import wordnet\n",
    "from sentence_transformers import SentenceTransformer\n",
    "from tqdm import tqdm\n",
    "warnings.filterwarnings(\"ignore\")\n",
    "#nltk.download('punkt')\n",
    "#nltk.download('stopwords')\n",
    "#nltk.download('wordnet')\n",
    "#nltk.download('averaged_perceptron_tagger')"
   ]
  },
  {
   "cell_type": "code",
   "execution_count": 53,
   "id": "13473c01",
   "metadata": {},
   "outputs": [],
   "source": [
    "df = pd.read_csv('Train.csv')"
   ]
  },
  {
   "cell_type": "code",
   "execution_count": 54,
   "id": "9fe39382",
   "metadata": {},
   "outputs": [
    {
     "data": {
      "text/html": [
       "<div>\n",
       "<style scoped>\n",
       "    .dataframe tbody tr th:only-of-type {\n",
       "        vertical-align: middle;\n",
       "    }\n",
       "\n",
       "    .dataframe tbody tr th {\n",
       "        vertical-align: top;\n",
       "    }\n",
       "\n",
       "    .dataframe thead th {\n",
       "        text-align: right;\n",
       "    }\n",
       "</style>\n",
       "<table border=\"1\" class=\"dataframe\">\n",
       "  <thead>\n",
       "    <tr style=\"text-align: right;\">\n",
       "      <th></th>\n",
       "      <th>id</th>\n",
       "      <th>Sentence</th>\n",
       "      <th>Aspect Term</th>\n",
       "      <th>polarity</th>\n",
       "      <th>from</th>\n",
       "      <th>to</th>\n",
       "    </tr>\n",
       "  </thead>\n",
       "  <tbody>\n",
       "    <tr>\n",
       "      <th>0</th>\n",
       "      <td>2339</td>\n",
       "      <td>I charge it at night and skip taking the cord ...</td>\n",
       "      <td>cord</td>\n",
       "      <td>neutral</td>\n",
       "      <td>41</td>\n",
       "      <td>45</td>\n",
       "    </tr>\n",
       "    <tr>\n",
       "      <th>1</th>\n",
       "      <td>2339</td>\n",
       "      <td>I charge it at night and skip taking the cord ...</td>\n",
       "      <td>battery life</td>\n",
       "      <td>positive</td>\n",
       "      <td>74</td>\n",
       "      <td>86</td>\n",
       "    </tr>\n",
       "    <tr>\n",
       "      <th>2</th>\n",
       "      <td>1316</td>\n",
       "      <td>The tech guy then said the service center does...</td>\n",
       "      <td>service center</td>\n",
       "      <td>negative</td>\n",
       "      <td>27</td>\n",
       "      <td>41</td>\n",
       "    </tr>\n",
       "    <tr>\n",
       "      <th>3</th>\n",
       "      <td>1316</td>\n",
       "      <td>The tech guy then said the service center does...</td>\n",
       "      <td>\"sales\" team</td>\n",
       "      <td>negative</td>\n",
       "      <td>109</td>\n",
       "      <td>121</td>\n",
       "    </tr>\n",
       "    <tr>\n",
       "      <th>4</th>\n",
       "      <td>1316</td>\n",
       "      <td>The tech guy then said the service center does...</td>\n",
       "      <td>tech guy</td>\n",
       "      <td>neutral</td>\n",
       "      <td>4</td>\n",
       "      <td>12</td>\n",
       "    </tr>\n",
       "    <tr>\n",
       "      <th>...</th>\n",
       "      <td>...</td>\n",
       "      <td>...</td>\n",
       "      <td>...</td>\n",
       "      <td>...</td>\n",
       "      <td>...</td>\n",
       "      <td>...</td>\n",
       "    </tr>\n",
       "    <tr>\n",
       "      <th>2353</th>\n",
       "      <td>2272</td>\n",
       "      <td>We also use Paralles so we can run virtual mac...</td>\n",
       "      <td>Windows Server Enterprise 2003</td>\n",
       "      <td>neutral</td>\n",
       "      <td>104</td>\n",
       "      <td>134</td>\n",
       "    </tr>\n",
       "    <tr>\n",
       "      <th>2354</th>\n",
       "      <td>2272</td>\n",
       "      <td>We also use Paralles so we can run virtual mac...</td>\n",
       "      <td>Windows Server 2008 Enterprise</td>\n",
       "      <td>neutral</td>\n",
       "      <td>140</td>\n",
       "      <td>170</td>\n",
       "    </tr>\n",
       "    <tr>\n",
       "      <th>2355</th>\n",
       "      <td>848</td>\n",
       "      <td>How Toshiba handles the repair seems to vary, ...</td>\n",
       "      <td>repair</td>\n",
       "      <td>conflict</td>\n",
       "      <td>24</td>\n",
       "      <td>30</td>\n",
       "    </tr>\n",
       "    <tr>\n",
       "      <th>2356</th>\n",
       "      <td>848</td>\n",
       "      <td>How Toshiba handles the repair seems to vary, ...</td>\n",
       "      <td>repair</td>\n",
       "      <td>positive</td>\n",
       "      <td>130</td>\n",
       "      <td>136</td>\n",
       "    </tr>\n",
       "    <tr>\n",
       "      <th>2357</th>\n",
       "      <td>734</td>\n",
       "      <td>I would like to use a different operating syst...</td>\n",
       "      <td>operating system</td>\n",
       "      <td>neutral</td>\n",
       "      <td>32</td>\n",
       "      <td>48</td>\n",
       "    </tr>\n",
       "  </tbody>\n",
       "</table>\n",
       "<p>2358 rows × 6 columns</p>\n",
       "</div>"
      ],
      "text/plain": [
       "        id                                           Sentence  \\\n",
       "0     2339  I charge it at night and skip taking the cord ...   \n",
       "1     2339  I charge it at night and skip taking the cord ...   \n",
       "2     1316  The tech guy then said the service center does...   \n",
       "3     1316  The tech guy then said the service center does...   \n",
       "4     1316  The tech guy then said the service center does...   \n",
       "...    ...                                                ...   \n",
       "2353  2272  We also use Paralles so we can run virtual mac...   \n",
       "2354  2272  We also use Paralles so we can run virtual mac...   \n",
       "2355   848  How Toshiba handles the repair seems to vary, ...   \n",
       "2356   848  How Toshiba handles the repair seems to vary, ...   \n",
       "2357   734  I would like to use a different operating syst...   \n",
       "\n",
       "                         Aspect Term  polarity  from   to  \n",
       "0                               cord   neutral    41   45  \n",
       "1                       battery life  positive    74   86  \n",
       "2                     service center  negative    27   41  \n",
       "3                       \"sales\" team  negative   109  121  \n",
       "4                           tech guy   neutral     4   12  \n",
       "...                              ...       ...   ...  ...  \n",
       "2353  Windows Server Enterprise 2003   neutral   104  134  \n",
       "2354  Windows Server 2008 Enterprise   neutral   140  170  \n",
       "2355                          repair  conflict    24   30  \n",
       "2356                          repair  positive   130  136  \n",
       "2357                operating system   neutral    32   48  \n",
       "\n",
       "[2358 rows x 6 columns]"
      ]
     },
     "execution_count": 54,
     "metadata": {},
     "output_type": "execute_result"
    }
   ],
   "source": [
    "df"
   ]
  },
  {
   "cell_type": "code",
   "execution_count": 55,
   "id": "6467250e",
   "metadata": {},
   "outputs": [],
   "source": [
    "df = df.drop(columns=['id'])"
   ]
  },
  {
   "cell_type": "code",
   "execution_count": 56,
   "id": "fa224290",
   "metadata": {},
   "outputs": [],
   "source": [
    "df = df.drop(columns=['from', 'to'])"
   ]
  },
  {
   "cell_type": "code",
   "execution_count": 57,
   "id": "a1afb97e",
   "metadata": {},
   "outputs": [
    {
     "data": {
      "text/html": [
       "<div>\n",
       "<style scoped>\n",
       "    .dataframe tbody tr th:only-of-type {\n",
       "        vertical-align: middle;\n",
       "    }\n",
       "\n",
       "    .dataframe tbody tr th {\n",
       "        vertical-align: top;\n",
       "    }\n",
       "\n",
       "    .dataframe thead th {\n",
       "        text-align: right;\n",
       "    }\n",
       "</style>\n",
       "<table border=\"1\" class=\"dataframe\">\n",
       "  <thead>\n",
       "    <tr style=\"text-align: right;\">\n",
       "      <th></th>\n",
       "      <th>Sentence</th>\n",
       "      <th>Aspect Term</th>\n",
       "      <th>polarity</th>\n",
       "    </tr>\n",
       "  </thead>\n",
       "  <tbody>\n",
       "    <tr>\n",
       "      <th>0</th>\n",
       "      <td>I charge it at night and skip taking the cord ...</td>\n",
       "      <td>cord</td>\n",
       "      <td>neutral</td>\n",
       "    </tr>\n",
       "    <tr>\n",
       "      <th>1</th>\n",
       "      <td>I charge it at night and skip taking the cord ...</td>\n",
       "      <td>battery life</td>\n",
       "      <td>positive</td>\n",
       "    </tr>\n",
       "    <tr>\n",
       "      <th>2</th>\n",
       "      <td>The tech guy then said the service center does...</td>\n",
       "      <td>service center</td>\n",
       "      <td>negative</td>\n",
       "    </tr>\n",
       "    <tr>\n",
       "      <th>3</th>\n",
       "      <td>The tech guy then said the service center does...</td>\n",
       "      <td>\"sales\" team</td>\n",
       "      <td>negative</td>\n",
       "    </tr>\n",
       "    <tr>\n",
       "      <th>4</th>\n",
       "      <td>The tech guy then said the service center does...</td>\n",
       "      <td>tech guy</td>\n",
       "      <td>neutral</td>\n",
       "    </tr>\n",
       "  </tbody>\n",
       "</table>\n",
       "</div>"
      ],
      "text/plain": [
       "                                            Sentence     Aspect Term  polarity\n",
       "0  I charge it at night and skip taking the cord ...            cord   neutral\n",
       "1  I charge it at night and skip taking the cord ...    battery life  positive\n",
       "2  The tech guy then said the service center does...  service center  negative\n",
       "3  The tech guy then said the service center does...    \"sales\" team  negative\n",
       "4  The tech guy then said the service center does...        tech guy   neutral"
      ]
     },
     "execution_count": 57,
     "metadata": {},
     "output_type": "execute_result"
    }
   ],
   "source": [
    "df.head(5)"
   ]
  },
  {
   "cell_type": "code",
   "execution_count": 58,
   "id": "02e3060d",
   "metadata": {},
   "outputs": [
    {
     "data": {
      "text/plain": [
       "4"
      ]
     },
     "execution_count": 58,
     "metadata": {},
     "output_type": "execute_result"
    }
   ],
   "source": [
    "df['polarity'].nunique()"
   ]
  },
  {
   "cell_type": "code",
   "execution_count": 59,
   "id": "1afee949",
   "metadata": {},
   "outputs": [
    {
     "data": {
      "text/plain": [
       "polarity\n",
       "positive    987\n",
       "negative    866\n",
       "neutral     460\n",
       "conflict     45\n",
       "Name: count, dtype: int64"
      ]
     },
     "execution_count": 59,
     "metadata": {},
     "output_type": "execute_result"
    }
   ],
   "source": [
    "df['polarity'].value_counts()"
   ]
  },
  {
   "cell_type": "code",
   "execution_count": 60,
   "id": "5e51c873",
   "metadata": {},
   "outputs": [],
   "source": [
    "df['Sentence'] = df['Sentence'].str.lower()\n",
    "df['Aspect Term'] = df['Aspect Term'].str.lower()"
   ]
  },
  {
   "cell_type": "code",
   "execution_count": 61,
   "id": "2c24377c",
   "metadata": {},
   "outputs": [
    {
     "name": "stdout",
     "output_type": "stream",
     "text": [
      "Sentences with URLs:\n",
      "Empty DataFrame\n",
      "Columns: [Sentence]\n",
      "Index: []\n"
     ]
    }
   ],
   "source": [
    "url_pattern = r'http[s]?://[^\\s]+'\n",
    "urls_found = df[df['Sentence'].str.contains(url_pattern, regex=True)]\n",
    "\n",
    "print(\"Sentences with URLs:\")\n",
    "print(urls_found[['Sentence']])"
   ]
  },
  {
   "cell_type": "code",
   "execution_count": 62,
   "id": "08db2ea3",
   "metadata": {},
   "outputs": [
    {
     "name": "stdout",
     "output_type": "stream",
     "text": [
      "\n",
      "Sentences with email addresses:\n",
      "Empty DataFrame\n",
      "Columns: [Sentence]\n",
      "Index: []\n"
     ]
    }
   ],
   "source": [
    "email_pattern = r'[a-zA-Z0-9._%+-]+@[a-zA-Z0-9.-]+\\.[a-zA-Z]{2,}'\n",
    "emails_found = df[df['Sentence'].str.contains(email_pattern, regex=True)]\n",
    "\n",
    "print(\"\\nSentences with email addresses:\")\n",
    "print(emails_found[['Sentence']])"
   ]
  },
  {
   "cell_type": "code",
   "execution_count": 63,
   "id": "4678d90d",
   "metadata": {},
   "outputs": [
    {
     "name": "stdout",
     "output_type": "stream",
     "text": [
      "\n",
      "Sentences with hashtags:\n",
      "Empty DataFrame\n",
      "Columns: [Sentence]\n",
      "Index: []\n"
     ]
    }
   ],
   "source": [
    "hashtag_pattern = r'#[\\w]+'\n",
    "hashtags_found = df[df['Sentence'].str.contains(hashtag_pattern, regex=True)]\n",
    "\n",
    "print(\"\\nSentences with hashtags:\")\n",
    "print(hashtags_found[['Sentence']])"
   ]
  },
  {
   "cell_type": "code",
   "execution_count": 64,
   "id": "0b9f9131",
   "metadata": {},
   "outputs": [],
   "source": [
    "df['Sentence'] = df['Sentence'].str.strip().str.replace('\\s+', ' ', regex=True)\n",
    "df['Aspect Term'] = df['Aspect Term'].str.strip().str.replace('\\s+', ' ', regex=True)"
   ]
  },
  {
   "cell_type": "code",
   "execution_count": 65,
   "id": "a110e75f",
   "metadata": {},
   "outputs": [],
   "source": [
    "df['Sentence'] = df['Sentence'].apply(contractions.fix)\n",
    "df['Aspect Term'] = df['Aspect Term'].apply(contractions.fix)"
   ]
  },
  {
   "cell_type": "code",
   "execution_count": 66,
   "id": "e78fa24b",
   "metadata": {},
   "outputs": [],
   "source": [
    "def remove_special_characters(text):\n",
    "    return re.sub(r'[^A-Za-z0-9\\s]', '', text)\n",
    "\n",
    "df['Sentence'] = df['Sentence'].apply(remove_special_characters)\n",
    "df['Aspect Term'] = df['Aspect Term'].apply(remove_special_characters)"
   ]
  },
  {
   "cell_type": "code",
   "execution_count": 67,
   "id": "43f549ef",
   "metadata": {},
   "outputs": [],
   "source": [
    "def remove_numbers(text):\n",
    "    return re.sub(r'\\d+', '', text)\n",
    "\n",
    "df['Sentence'] = df['Sentence'].apply(remove_numbers)\n",
    "df['Aspect Term'] = df['Aspect Term'].apply(remove_numbers)"
   ]
  },
  {
   "cell_type": "code",
   "execution_count": 68,
   "id": "5ec37ac2",
   "metadata": {},
   "outputs": [],
   "source": [
    "df['Sentence'] = df['Sentence'].str.strip().str.replace('\\s+', ' ', regex=True)\n",
    "df['Aspect Term'] = df['Aspect Term'].str.strip().str.replace('\\s+', ' ', regex=True)"
   ]
  },
  {
   "cell_type": "code",
   "execution_count": 69,
   "id": "613318eb",
   "metadata": {},
   "outputs": [],
   "source": [
    "def get_wordnet_pos(tag):\n",
    "    if tag.startswith('J'):\n",
    "        return wordnet.ADJ\n",
    "    elif tag.startswith('V'):\n",
    "        return wordnet.VERB\n",
    "    elif tag.startswith('N'):\n",
    "        return wordnet.NOUN\n",
    "    elif tag.startswith('R'):\n",
    "        return wordnet.ADV\n",
    "    else:\n",
    "        return wordnet.NOUN"
   ]
  },
  {
   "cell_type": "code",
   "execution_count": 70,
   "id": "199412bf",
   "metadata": {},
   "outputs": [],
   "source": [
    "def preprocess(text):\n",
    "    tokens = word_tokenize(text)\n",
    "    stop_words = set(stopwords.words('english'))\n",
    "    filtered_tokens = [word for word in tokens if word not in stop_words]\n",
    "    pos_tags = pos_tag(filtered_tokens)\n",
    "    #ps = PorterStemmer()\n",
    "    #stemmed_tokens = [ps.stem(word) for word in filtered_tokens]\n",
    "    lemmatizer = WordNetLemmatizer()\n",
    "    lemmatized_tokens = [lemmatizer.lemmatize(word, get_wordnet_pos(tag)) for word, tag in pos_tags]\n",
    "    return ' '.join(lemmatized_tokens)"
   ]
  },
  {
   "cell_type": "code",
   "execution_count": 71,
   "id": "9a6487ab",
   "metadata": {},
   "outputs": [],
   "source": [
    "df['Sentence'] = df['Sentence'].apply(preprocess)\n",
    "df['Aspect Term'] = df['Aspect Term'].apply(preprocess)"
   ]
  },
  {
   "cell_type": "code",
   "execution_count": 72,
   "id": "db685fc3",
   "metadata": {},
   "outputs": [
    {
     "data": {
      "text/plain": [
       "0           charge night skip take cord good battery life\n",
       "1           charge night skip take cord good battery life\n",
       "2       tech guy say service center exchange direct co...\n",
       "3       tech guy say service center exchange direct co...\n",
       "4       tech guy say service center exchange direct co...\n",
       "                              ...                        \n",
       "2353    also use paralles run virtual machine window x...\n",
       "2354    also use paralles run virtual machine window x...\n",
       "2355    toshiba handle repair seem vary folk indicate ...\n",
       "2356    toshiba handle repair seem vary folk indicate ...\n",
       "2357    would like use different operate system altoge...\n",
       "Name: Sentence, Length: 2358, dtype: object"
      ]
     },
     "execution_count": 72,
     "metadata": {},
     "output_type": "execute_result"
    }
   ],
   "source": [
    "df['Sentence']"
   ]
  },
  {
   "cell_type": "code",
   "execution_count": 73,
   "id": "b5e5f7fd",
   "metadata": {},
   "outputs": [],
   "source": [
    "df['Combined'] = df['Sentence'] + \" \" + df['Aspect Term']"
   ]
  },
  {
   "cell_type": "code",
   "execution_count": 74,
   "id": "57123b14",
   "metadata": {},
   "outputs": [],
   "source": [
    "X = df['Combined']\n",
    "y = df['polarity']"
   ]
  },
  {
   "cell_type": "code",
   "execution_count": 24,
   "id": "596d57be",
   "metadata": {},
   "outputs": [],
   "source": [
    "vectorizer = CountVectorizer()\n",
    "X_bow = vectorizer.fit_transform(X)"
   ]
  },
  {
   "cell_type": "code",
   "execution_count": 25,
   "id": "2e714491",
   "metadata": {},
   "outputs": [],
   "source": [
    "le = LabelEncoder()\n",
    "y = le.fit_transform(y)"
   ]
  },
  {
   "cell_type": "code",
   "execution_count": 26,
   "id": "dd2ec7a4",
   "metadata": {},
   "outputs": [],
   "source": [
    "chi2_selector_bow = SelectKBest(chi2, k=100)\n",
    "X_kbest_bow = chi2_selector_bow.fit_transform(X_bow, y)"
   ]
  },
  {
   "cell_type": "code",
   "execution_count": 27,
   "id": "0e7999dc",
   "metadata": {},
   "outputs": [],
   "source": [
    "X_train, X_test, y_train, y_test = train_test_split(X_kbest_bow, y, test_size=0.2, random_state=42)"
   ]
  },
  {
   "cell_type": "code",
   "execution_count": 28,
   "id": "9804c547",
   "metadata": {},
   "outputs": [
    {
     "name": "stdout",
     "output_type": "stream",
     "text": [
      "Random Forest Accuracy: 0.6186440677966102\n"
     ]
    }
   ],
   "source": [
    "rf_classifier = RandomForestClassifier(n_estimators=100, random_state=5805)\n",
    "rf_classifier.fit(X_train, y_train)\n",
    "\n",
    "y_pred = rf_classifier.predict(X_test)\n",
    "\n",
    "accuracy = accuracy_score(y_test, y_pred)\n",
    "print(f'Random Forest Accuracy: {accuracy}')"
   ]
  },
  {
   "cell_type": "code",
   "execution_count": 29,
   "id": "e76ed681",
   "metadata": {},
   "outputs": [
    {
     "name": "stdout",
     "output_type": "stream",
     "text": [
      "SVC Accuracy: 0.625\n"
     ]
    }
   ],
   "source": [
    "svc_classifier = SVC(kernel='rbf', random_state=5805)\n",
    "svc_classifier.fit(X_train, y_train)\n",
    "\n",
    "y_pred = svc_classifier.predict(X_test)\n",
    "\n",
    "accuracy = accuracy_score(y_test, y_pred)\n",
    "print(f'SVC Accuracy: {accuracy}')"
   ]
  },
  {
   "cell_type": "code",
   "execution_count": 30,
   "id": "ade9bf1d",
   "metadata": {},
   "outputs": [
    {
     "name": "stdout",
     "output_type": "stream",
     "text": [
      "Decison Tree Classifier Accuracy: 0.6186440677966102\n"
     ]
    }
   ],
   "source": [
    "decison_tree_classifier = DecisionTreeClassifier(criterion='entropy', random_state=5805)\n",
    "decison_tree_classifier.fit(X_train, y_train)\n",
    "\n",
    "y_pred = decison_tree_classifier.predict(X_test)\n",
    "\n",
    "accuracy = accuracy_score(y_test, y_pred)\n",
    "print(f'Decison Tree Classifier Accuracy: {accuracy}')"
   ]
  },
  {
   "cell_type": "code",
   "execution_count": 31,
   "id": "96145a2e",
   "metadata": {},
   "outputs": [],
   "source": [
    "def evaluate_classifier(X, y, classifier):\n",
    "    scores = cross_val_score(classifier, X, y, cv=10, scoring='accuracy')\n",
    "    return scores.mean()\n",
    "\n",
    "classifiers = {\n",
    "    \"Random Forest\": RandomForestClassifier(random_state=5805),\n",
    "    \"SVM\": SVC(random_state=5805),\n",
    "    \"Decision Tree\": DecisionTreeClassifier(random_state=5805)\n",
    "}"
   ]
  },
  {
   "cell_type": "code",
   "execution_count": 32,
   "id": "2ed42cef",
   "metadata": {},
   "outputs": [
    {
     "name": "stdout",
     "output_type": "stream",
     "text": [
      "\n",
      "Evaluating with Bag of Words:\n",
      "Random Forest: Accuracy = 0.5954\n",
      "SVM: Accuracy = 0.6043\n",
      "Decision Tree: Accuracy = 0.5853\n"
     ]
    }
   ],
   "source": [
    "print(\"\\nEvaluating with Bag of Words:\")\n",
    "for name, clf in classifiers.items():\n",
    "    accuracy = evaluate_classifier(X_kbest_bow, y, clf)\n",
    "    print(f\"{name}: Accuracy = {accuracy:.4f}\")"
   ]
  },
  {
   "cell_type": "code",
   "execution_count": 33,
   "id": "47baf289",
   "metadata": {},
   "outputs": [],
   "source": [
    "tfidf_vectorizer = TfidfVectorizer()\n",
    "X_tfidf = tfidf_vectorizer.fit_transform(X)"
   ]
  },
  {
   "cell_type": "code",
   "execution_count": 34,
   "id": "845b50e9",
   "metadata": {},
   "outputs": [],
   "source": [
    "chi2_selector_tfidf = SelectKBest(chi2, k=100)\n",
    "X_kbest_tfidf = chi2_selector_tfidf.fit_transform(X_tfidf, y)"
   ]
  },
  {
   "cell_type": "code",
   "execution_count": 35,
   "id": "dc376d06",
   "metadata": {},
   "outputs": [],
   "source": [
    "X_train, X_test, y_train, y_test = train_test_split(X_kbest_tfidf, y, test_size=0.2, random_state=42)"
   ]
  },
  {
   "cell_type": "code",
   "execution_count": 36,
   "id": "bc2b8c73",
   "metadata": {},
   "outputs": [
    {
     "name": "stdout",
     "output_type": "stream",
     "text": [
      "Random Forest Accuracy: 0.6080508474576272\n"
     ]
    }
   ],
   "source": [
    "rf_classifier = RandomForestClassifier(n_estimators=100,random_state=5805)\n",
    "rf_classifier.fit(X_train, y_train)\n",
    "\n",
    "y_pred = rf_classifier.predict(X_test)\n",
    "\n",
    "accuracy = accuracy_score(y_test, y_pred)\n",
    "print(f'Random Forest Accuracy: {accuracy}')"
   ]
  },
  {
   "cell_type": "code",
   "execution_count": 37,
   "id": "af09cade",
   "metadata": {},
   "outputs": [
    {
     "name": "stdout",
     "output_type": "stream",
     "text": [
      "SVC Accuracy: 0.614406779661017\n"
     ]
    }
   ],
   "source": [
    "svc_classifier = SVC(kernel='rbf',random_state=5805)\n",
    "svc_classifier.fit(X_train, y_train)\n",
    "\n",
    "y_pred = svc_classifier.predict(X_test)\n",
    "\n",
    "accuracy = accuracy_score(y_test, y_pred)\n",
    "print(f'SVC Accuracy: {accuracy}')"
   ]
  },
  {
   "cell_type": "code",
   "execution_count": 38,
   "id": "eae5172d",
   "metadata": {},
   "outputs": [
    {
     "name": "stdout",
     "output_type": "stream",
     "text": [
      "Decison Tree Classifier Accuracy: 0.6016949152542372\n"
     ]
    }
   ],
   "source": [
    "decison_tree_classifier = DecisionTreeClassifier(criterion='entropy',random_state=5805)\n",
    "decison_tree_classifier.fit(X_train, y_train)\n",
    "\n",
    "y_pred = decison_tree_classifier.predict(X_test)\n",
    "\n",
    "accuracy = accuracy_score(y_test, y_pred)\n",
    "print(f'Decison Tree Classifier Accuracy: {accuracy}')"
   ]
  },
  {
   "cell_type": "code",
   "execution_count": 39,
   "id": "c4b59b15",
   "metadata": {},
   "outputs": [
    {
     "name": "stdout",
     "output_type": "stream",
     "text": [
      "Evaluating with TF-IDF:\n",
      "Random Forest: Accuracy = 0.5683\n",
      "SVM: Accuracy = 0.5946\n",
      "Decision Tree: Accuracy = 0.5564\n"
     ]
    }
   ],
   "source": [
    "print(\"Evaluating with TF-IDF:\")\n",
    "for name, clf in classifiers.items():\n",
    "    accuracy = evaluate_classifier(X_kbest_tfidf, y, clf)\n",
    "    print(f\"{name}: Accuracy = {accuracy:.4f}\")"
   ]
  },
  {
   "cell_type": "code",
   "execution_count": 40,
   "id": "595e4c2e",
   "metadata": {},
   "outputs": [],
   "source": [
    "def load_glove_embeddings(file_path):\n",
    "    embeddings = {}\n",
    "    with open(file_path, 'r', encoding='utf-8') as f:\n",
    "        for line in f:\n",
    "            values = line.split()\n",
    "            word = values[0]\n",
    "            vector = np.asarray(values[1:], dtype='float32')\n",
    "            embeddings[word] = vector\n",
    "    return embeddings\n",
    "\n",
    "glove_embeddings = load_glove_embeddings('glove.6B/glove.6B.300d.txt')"
   ]
  },
  {
   "cell_type": "code",
   "execution_count": 41,
   "id": "470432d9",
   "metadata": {},
   "outputs": [],
   "source": [
    "def get_embedding(text, embeddings):\n",
    "    words = text.split()\n",
    "    valid_words = [embeddings[word] for word in words if word in embeddings]\n",
    "    if valid_words:\n",
    "        return np.mean(valid_words, axis=0)  \n",
    "    else:\n",
    "        return np.zeros(300)\n",
    "\n",
    "df['SentenceEmbedding'] = df['Sentence'].apply(lambda x: get_embedding(x, glove_embeddings))\n",
    "df['AspectEmbedding'] = df['Aspect Term'].apply(lambda x: get_embedding(x, glove_embeddings))"
   ]
  },
  {
   "cell_type": "code",
   "execution_count": 42,
   "id": "29b44e89",
   "metadata": {},
   "outputs": [],
   "source": [
    "def combine_embeddings(row):\n",
    "    return np.concatenate((row['SentenceEmbedding'], row['AspectEmbedding']))\n",
    "\n",
    "df['CombinedEmbedding'] = df.apply(combine_embeddings, axis=1)"
   ]
  },
  {
   "cell_type": "code",
   "execution_count": 43,
   "id": "7a8fc169",
   "metadata": {},
   "outputs": [],
   "source": [
    "X = np.array(df['CombinedEmbedding'].tolist())"
   ]
  },
  {
   "cell_type": "code",
   "execution_count": 44,
   "id": "9ee7d07a",
   "metadata": {},
   "outputs": [],
   "source": [
    "X_train, X_test, y_train, y_test = train_test_split(X, y, test_size=0.2, random_state=42)"
   ]
  },
  {
   "cell_type": "code",
   "execution_count": 45,
   "id": "4eb3e523",
   "metadata": {},
   "outputs": [
    {
     "name": "stdout",
     "output_type": "stream",
     "text": [
      "Random Forest Accuracy: 0.6864406779661016\n"
     ]
    }
   ],
   "source": [
    "rf_classifier = RandomForestClassifier(n_estimators=100, random_state=5805)\n",
    "rf_classifier.fit(X_train, y_train)\n",
    "\n",
    "y_pred = rf_classifier.predict(X_test)\n",
    "\n",
    "accuracy = accuracy_score(y_test, y_pred)\n",
    "print(f'Random Forest Accuracy: {accuracy}')"
   ]
  },
  {
   "cell_type": "code",
   "execution_count": 46,
   "id": "b10ce28a",
   "metadata": {},
   "outputs": [
    {
     "name": "stdout",
     "output_type": "stream",
     "text": [
      "SVC Accuracy: 0.5699152542372882\n"
     ]
    }
   ],
   "source": [
    "svc_classifier = SVC(kernel='rbf',random_state=5805)\n",
    "svc_classifier.fit(X_train, y_train)\n",
    "\n",
    "y_pred = svc_classifier.predict(X_test)\n",
    "\n",
    "accuracy = accuracy_score(y_test, y_pred)\n",
    "print(f'SVC Accuracy: {accuracy}')"
   ]
  },
  {
   "cell_type": "code",
   "execution_count": 47,
   "id": "7e6a03ea",
   "metadata": {},
   "outputs": [
    {
     "name": "stdout",
     "output_type": "stream",
     "text": [
      "Decison Tree Classifier Accuracy: 0.5466101694915254\n"
     ]
    }
   ],
   "source": [
    "decison_tree_classifier = DecisionTreeClassifier(criterion='entropy',random_state=5805)\n",
    "decison_tree_classifier.fit(X_train, y_train)\n",
    "\n",
    "y_pred = decison_tree_classifier.predict(X_test)\n",
    "\n",
    "accuracy = accuracy_score(y_test, y_pred)\n",
    "print(f'Decison Tree Classifier Accuracy: {accuracy}')"
   ]
  },
  {
   "cell_type": "code",
   "execution_count": null,
   "id": "b89b1dba",
   "metadata": {},
   "outputs": [
    {
     "name": "stdout",
     "output_type": "stream",
     "text": [
      "\n",
      "Evaluating Glove:\n",
      "Random Forest: Accuracy = 0.6209\n",
      "SVM: Accuracy = 0.6005\n"
     ]
    }
   ],
   "source": [
    "print(\"\\nEvaluating Glove:\")\n",
    "for name, clf in classifiers.items():\n",
    "    accuracy = evaluate_classifier(X, y, clf)\n",
    "    print(f\"{name}: Accuracy = {accuracy:.4f}\")"
   ]
  },
  {
   "cell_type": "code",
   "execution_count": 75,
   "id": "9b75e02c",
   "metadata": {},
   "outputs": [],
   "source": [
    "model = SentenceTransformer('sentence-transformers/all-distilroberta-v1')"
   ]
  },
  {
   "cell_type": "code",
   "execution_count": 76,
   "id": "cace4288",
   "metadata": {},
   "outputs": [],
   "source": [
    "df['SentenceEmbedding'] = df['Sentence'].apply(lambda x: model.encode(x))"
   ]
  },
  {
   "cell_type": "code",
   "execution_count": 77,
   "id": "0d8a7603",
   "metadata": {},
   "outputs": [
    {
     "data": {
      "text/plain": [
       "0       [0.01144191, 0.07153592, 0.0031493006, 0.01125...\n",
       "1       [0.01144191, 0.07153592, 0.0031493006, 0.01125...\n",
       "2       [-0.023885034, -0.019411264, 0.022051396, 0.01...\n",
       "3       [-0.023885034, -0.019411264, 0.022051396, 0.01...\n",
       "4       [-0.023885034, -0.019411264, 0.022051396, 0.01...\n",
       "                              ...                        \n",
       "2353    [-0.021907007, 0.032787673, -0.0038888517, -0....\n",
       "2354    [-0.021907007, 0.032787673, -0.0038888517, -0....\n",
       "2355    [-0.019594712, 0.08396906, 0.00035555853, 0.02...\n",
       "2356    [-0.019594712, 0.08396906, 0.00035555853, 0.02...\n",
       "2357    [-0.018998798, 0.078129694, 0.008430354, 0.012...\n",
       "Name: SentenceEmbedding, Length: 2358, dtype: object"
      ]
     },
     "execution_count": 77,
     "metadata": {},
     "output_type": "execute_result"
    }
   ],
   "source": [
    "df['SentenceEmbedding']"
   ]
  },
  {
   "cell_type": "code",
   "execution_count": 78,
   "id": "a2ab0386",
   "metadata": {},
   "outputs": [],
   "source": [
    "df['AspectEmbedding'] = df['Aspect Term'].apply(lambda x: model.encode(x))"
   ]
  },
  {
   "cell_type": "code",
   "execution_count": 79,
   "id": "a94b095c",
   "metadata": {},
   "outputs": [],
   "source": [
    "def combine_embeddings(row):\n",
    "    return np.concatenate((row['SentenceEmbedding'], row['AspectEmbedding']))\n",
    "\n",
    "df['CombinedEmbedding'] = df.apply(combine_embeddings, axis=1)"
   ]
  },
  {
   "cell_type": "code",
   "execution_count": 80,
   "id": "72396cde",
   "metadata": {},
   "outputs": [],
   "source": [
    "X = np.array(df['CombinedEmbedding'].tolist())\n",
    "\n",
    "X_train, X_test, y_train, y_test = train_test_split(X, y, test_size=0.2, random_state=42)"
   ]
  },
  {
   "cell_type": "code",
   "execution_count": 83,
   "id": "71fa9cef",
   "metadata": {},
   "outputs": [
    {
     "data": {
      "text/plain": [
       "array([[ 0.01144191,  0.07153592,  0.0031493 , ..., -0.02138014,\n",
       "        -0.02532611, -0.0213773 ],\n",
       "       [ 0.01144191,  0.07153592,  0.0031493 , ...,  0.0069995 ,\n",
       "         0.00891787, -0.00099972],\n",
       "       [-0.02388503, -0.01941126,  0.0220514 , ...,  0.00919146,\n",
       "        -0.00693951, -0.01500397],\n",
       "       ...,\n",
       "       [-0.01959471,  0.08396906,  0.00035556, ..., -0.02487313,\n",
       "         0.02932738,  0.01469556],\n",
       "       [-0.01959471,  0.08396906,  0.00035556, ..., -0.02487313,\n",
       "         0.02932738,  0.01469556],\n",
       "       [-0.0189988 ,  0.07812969,  0.00843035, ...,  0.03455833,\n",
       "        -0.0046375 , -0.02602183]], dtype=float32)"
      ]
     },
     "execution_count": 83,
     "metadata": {},
     "output_type": "execute_result"
    }
   ],
   "source": []
  },
  {
   "cell_type": "code",
   "execution_count": 67,
   "id": "1af0d123",
   "metadata": {},
   "outputs": [
    {
     "name": "stdout",
     "output_type": "stream",
     "text": [
      "Random Forest Accuracy: 0.6949152542372882\n"
     ]
    }
   ],
   "source": [
    "rf_classifier = RandomForestClassifier(n_estimators=100,random_state=5803)\n",
    "rf_classifier.fit(X_train, y_train)\n",
    "\n",
    "y_pred = rf_classifier.predict(X_test)\n",
    "\n",
    "accuracy = accuracy_score(y_test, y_pred)\n",
    "print(f'Random Forest Accuracy: {accuracy}')"
   ]
  },
  {
   "cell_type": "code",
   "execution_count": 68,
   "id": "e9bde339",
   "metadata": {},
   "outputs": [
    {
     "name": "stdout",
     "output_type": "stream",
     "text": [
      "SVC Accuracy: 0.6758474576271186\n"
     ]
    }
   ],
   "source": [
    "svc_classifier = SVC(kernel='rbf',random_state=5805)\n",
    "svc_classifier.fit(X_train, y_train)\n",
    "\n",
    "y_pred = svc_classifier.predict(X_test)\n",
    "\n",
    "accuracy = accuracy_score(y_test, y_pred)\n",
    "print(f'SVC Accuracy: {accuracy}')"
   ]
  },
  {
   "cell_type": "code",
   "execution_count": 69,
   "id": "f680818e",
   "metadata": {},
   "outputs": [
    {
     "name": "stdout",
     "output_type": "stream",
     "text": [
      "Decison Tree Classifier Accuracy: 0.597457627118644\n"
     ]
    }
   ],
   "source": [
    "decison_tree_classifier = DecisionTreeClassifier(criterion='entropy',random_state=5805)\n",
    "decison_tree_classifier.fit(X_train, y_train)\n",
    "\n",
    "y_pred = decison_tree_classifier.predict(X_test)\n",
    "\n",
    "accuracy = accuracy_score(y_test, y_pred)\n",
    "print(f'Decison Tree Classifier Accuracy: {accuracy}')"
   ]
  },
  {
   "cell_type": "code",
   "execution_count": 70,
   "id": "d9a94d55",
   "metadata": {},
   "outputs": [
    {
     "name": "stdout",
     "output_type": "stream",
     "text": [
      "\n",
      "Evaluating with Sentence-Transformer:\n",
      "Random Forest: Accuracy = 0.6425\n",
      "SVM: Accuracy = 0.6680\n",
      "Decision Tree: Accuracy = 0.4860\n"
     ]
    }
   ],
   "source": [
    "print(\"\\nEvaluating with Sentence-Transformer:\")\n",
    "for name, clf in classifiers.items():\n",
    "    accuracy = evaluate_classifier(X, y, clf)\n",
    "    print(f\"{name}: Accuracy = {accuracy:.4f}\")"
   ]
  }
 ],
 "metadata": {
  "kernelspec": {
   "display_name": "Python 3 (ipykernel)",
   "language": "python",
   "name": "python3"
  },
  "language_info": {
   "codemirror_mode": {
    "name": "ipython",
    "version": 3
   },
   "file_extension": ".py",
   "mimetype": "text/x-python",
   "name": "python",
   "nbconvert_exporter": "python",
   "pygments_lexer": "ipython3",
   "version": "3.11.5"
  }
 },
 "nbformat": 4,
 "nbformat_minor": 5
}
